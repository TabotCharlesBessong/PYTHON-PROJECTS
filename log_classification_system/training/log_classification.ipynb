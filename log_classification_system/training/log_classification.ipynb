{
 "cells": [
  {
   "cell_type": "markdown",
   "id": "4ef3464673447a14",
   "metadata": {},
   "source": [
    "### Data Load"
   ]
  },
  {
   "cell_type": "code",
   "execution_count": null,
   "id": "initial_id",
   "metadata": {
    "ExecuteTime": {
     "end_time": "2025-01-18T21:42:43.965893Z",
     "start_time": "2025-01-18T21:42:43.144021Z"
    },
    "collapsed": true
   },
   "outputs": [],
   "source": [
    "import pandas as pd\n",
    "\n",
    "df = pd.read_csv(\"dataset/synthetic_logs.csv\")\n",
    "df.head()"
   ]
  },
  {
   "cell_type": "code",
   "execution_count": null,
   "id": "4495a73d8e933c6e",
   "metadata": {
    "ExecuteTime": {
     "end_time": "2025-01-15T20:27:53.403158Z",
     "start_time": "2025-01-15T20:27:53.387783Z"
    }
   },
   "outputs": [],
   "source": [
    "df.source.unique()"
   ]
  },
  {
   "cell_type": "code",
   "execution_count": null,
   "id": "92da3b13bac914a7",
   "metadata": {
    "ExecuteTime": {
     "end_time": "2025-01-15T20:27:53.466975Z",
     "start_time": "2025-01-15T20:27:53.452028Z"
    }
   },
   "outputs": [],
   "source": [
    "df.target_label.unique()"
   ]
  },
  {
   "cell_type": "code",
   "execution_count": null,
   "id": "b350454e0d700e15",
   "metadata": {
    "ExecuteTime": {
     "end_time": "2025-01-15T20:27:53.537931Z",
     "start_time": "2025-01-15T20:27:53.521598Z"
    }
   },
   "outputs": [],
   "source": [
    "df[df.target_label=='System Notification'].sample(10)"
   ]
  },
  {
   "cell_type": "code",
   "execution_count": null,
   "id": "dc5394d70050e10d",
   "metadata": {
    "ExecuteTime": {
     "end_time": "2025-01-15T20:27:53.626880Z",
     "start_time": "2025-01-15T20:27:53.611502Z"
    }
   },
   "outputs": [],
   "source": [
    "df[df.log_message.str.startswith(\"System reboot initiated by user\")]"
   ]
  },
  {
   "cell_type": "markdown",
   "id": "f9848e705b7eaa60",
   "metadata": {},
   "source": [
    "### Clustering"
   ]
  },
  {
   "cell_type": "code",
   "execution_count": null,
   "id": "4ac33c95fa16ebc0",
   "metadata": {
    "ExecuteTime": {
     "end_time": "2025-01-15T20:27:53.727373Z",
     "start_time": "2025-01-15T20:27:53.711739Z"
    }
   },
   "outputs": [],
   "source": [
    "from sklearn.cluster import DBSCAN\n",
    "from sentence_transformers import SentenceTransformer"
   ]
  },
  {
   "cell_type": "code",
   "execution_count": null,
   "id": "6722e5924d2a1fc0",
   "metadata": {
    "ExecuteTime": {
     "end_time": "2025-01-15T20:27:57.371284Z",
     "start_time": "2025-01-15T20:27:53.820041Z"
    }
   },
   "outputs": [],
   "source": [
    "model = SentenceTransformer('all-MiniLM-L6-v2')  # Lightweight embedding model\n",
    "embeddings = model.encode(df['log_message'].tolist())"
   ]
  },
  {
   "cell_type": "code",
   "execution_count": null,
   "id": "8e97b58b60296c93",
   "metadata": {
    "ExecuteTime": {
     "end_time": "2025-01-15T20:27:57.391292Z",
     "start_time": "2025-01-15T20:27:57.371284Z"
    }
   },
   "outputs": [],
   "source": [
    "embeddings[:5]"
   ]
  },
  {
   "cell_type": "code",
   "execution_count": null,
   "id": "797b761439f42836",
   "metadata": {
    "ExecuteTime": {
     "end_time": "2025-01-15T20:27:57.492015Z",
     "start_time": "2025-01-15T20:27:57.421383Z"
    }
   },
   "outputs": [],
   "source": [
    "clustering = DBSCAN(eps=0.2, min_samples=1, metric='cosine').fit(embeddings)\n",
    "df['cluster'] = clustering.labels_"
   ]
  },
  {
   "cell_type": "code",
   "execution_count": null,
   "id": "f86db1d238061a83",
   "metadata": {
    "ExecuteTime": {
     "end_time": "2025-01-15T20:27:57.554699Z",
     "start_time": "2025-01-15T20:27:57.540698Z"
    }
   },
   "outputs": [],
   "source": [
    "df.head()"
   ]
  },
  {
   "cell_type": "code",
   "execution_count": null,
   "id": "d3ec326ef8793ed8",
   "metadata": {
    "ExecuteTime": {
     "end_time": "2025-01-15T20:27:57.689518Z",
     "start_time": "2025-01-15T20:27:57.676503Z"
    }
   },
   "outputs": [],
   "source": [
    "# Group by cluster to inspect patterns\n",
    "clusters = df.groupby('cluster')['log_message'].apply(list)\n",
    "sorted_clusters = clusters.sort_values(key=lambda x: x.map(len), ascending=False)"
   ]
  },
  {
   "cell_type": "code",
   "execution_count": null,
   "id": "53dd43fd2cab0141",
   "metadata": {
    "ExecuteTime": {
     "end_time": "2025-01-15T20:27:58.467824Z",
     "start_time": "2025-01-15T20:27:58.449975Z"
    }
   },
   "outputs": [],
   "source": [
    "print(\"Clustered Patterns:\")\n",
    "for cluster_id, messages in sorted_clusters.items():\n",
    "    if len(messages) > 10:\n",
    "        print(f\"Cluster {cluster_id}:\")\n",
    "        for msg in messages[:5]:\n",
    "            print(f\"  {msg}\")"
   ]
  },
  {
   "cell_type": "markdown",
   "id": "bbec6795396f2d6b",
   "metadata": {},
   "source": [
    "### Classification Stage 1: Regex"
   ]
  },
  {
   "cell_type": "code",
   "execution_count": null,
   "id": "ca32020e4fdb8f40",
   "metadata": {
    "ExecuteTime": {
     "end_time": "2025-01-15T20:27:58.549493Z",
     "start_time": "2025-01-15T20:27:58.529458Z"
    }
   },
   "outputs": [],
   "source": [
    "import re\n",
    "def classify_with_regex(log_message):\n",
    "    regex_patterns = {\n",
    "        r\"User User\\d+ logged (in|out).\": \"User Action\",\n",
    "        r\"Backup (started|ended) at .*\": \"System Notification\",\n",
    "        r\"Backup completed successfully.\": \"System Notification\",\n",
    "        r\"System updated to version .*\": \"System Notification\",\n",
    "        r\"File .* uploaded successfully by user .*\": \"System Notification\",\n",
    "        r\"Disk cleanup completed successfully.\": \"System Notification\",\n",
    "        r\"System reboot initiated by user .*\": \"System Notification\",\n",
    "        r\"Account with ID .* created by .*\": \"User Action\"\n",
    "    }\n",
    "    for pattern, label in regex_patterns.items():\n",
    "        if re.search(pattern, log_message):\n",
    "            return label\n",
    "    return None"
   ]
  },
  {
   "cell_type": "code",
   "execution_count": null,
   "id": "4d9645ec6812da4a",
   "metadata": {
    "ExecuteTime": {
     "end_time": "2025-01-15T20:27:58.589510Z",
     "start_time": "2025-01-15T20:27:58.579485Z"
    }
   },
   "outputs": [],
   "source": [
    "classify_with_regex(\"User User123 logged in.\")"
   ]
  },
  {
   "cell_type": "code",
   "execution_count": null,
   "id": "6b3b838a2d270190",
   "metadata": {
    "ExecuteTime": {
     "end_time": "2025-01-15T20:27:58.636755Z",
     "start_time": "2025-01-15T20:27:58.624648Z"
    }
   },
   "outputs": [],
   "source": [
    "classify_with_regex(\"System reboot initiated by user User179.\")"
   ]
  },
  {
   "cell_type": "code",
   "execution_count": null,
   "id": "99bcfd70b451835c",
   "metadata": {
    "ExecuteTime": {
     "end_time": "2025-01-15T20:27:58.682792Z",
     "start_time": "2025-01-15T20:27:58.672822Z"
    }
   },
   "outputs": [],
   "source": [
    "classify_with_regex(\"Hey you, chill bro\")"
   ]
  },
  {
   "cell_type": "code",
   "execution_count": null,
   "id": "22619eedaa15acc3",
   "metadata": {
    "ExecuteTime": {
     "end_time": "2025-01-15T20:27:58.760034Z",
     "start_time": "2025-01-15T20:27:58.731326Z"
    }
   },
   "outputs": [],
   "source": [
    "# Apply regex classification\n",
    "df['regex_label'] = df['log_message'].apply(lambda x: classify_with_regex(x))\n",
    "df[df['regex_label'].notnull()]"
   ]
  },
  {
   "cell_type": "code",
   "execution_count": null,
   "id": "e12979fc8238277f",
   "metadata": {
    "ExecuteTime": {
     "end_time": "2025-01-15T20:27:58.806198Z",
     "start_time": "2025-01-15T20:27:58.792662Z"
    }
   },
   "outputs": [],
   "source": [
    "df[df['regex_label'].isnull()].head(5)"
   ]
  },
  {
   "cell_type": "markdown",
   "id": "b58274a035c82628",
   "metadata": {},
   "source": [
    "### Classification Stage 2: Classification Using Embeddings"
   ]
  },
  {
   "cell_type": "code",
   "execution_count": null,
   "id": "7c21958116c1429b",
   "metadata": {
    "ExecuteTime": {
     "end_time": "2025-01-15T20:29:48.629503Z",
     "start_time": "2025-01-15T20:29:48.598340Z"
    }
   },
   "outputs": [],
   "source": [
    "df_non_regex = df[df['regex_label'].isnull()].copy()\n",
    "df_non_regex.shape"
   ]
  },
  {
   "cell_type": "code",
   "execution_count": null,
   "id": "b340b51441a741a8",
   "metadata": {
    "ExecuteTime": {
     "end_time": "2025-01-15T20:30:04.093929Z",
     "start_time": "2025-01-15T20:30:04.062728Z"
    }
   },
   "outputs": [],
   "source": [
    "df_legacy = df_non_regex[df_non_regex.source==\"LegacyCRM\"]\n",
    "df_legacy"
   ]
  },
  {
   "cell_type": "code",
   "execution_count": null,
   "id": "8d8f7e5902aca5f8",
   "metadata": {
    "ExecuteTime": {
     "end_time": "2025-01-15T20:30:48.679137Z",
     "start_time": "2025-01-15T20:30:48.647857Z"
    }
   },
   "outputs": [],
   "source": [
    "df_non_legacy = df_non_regex[df_non_regex.source!=\"LegacyCRM\"]\n",
    "df_non_legacy"
   ]
  },
  {
   "cell_type": "code",
   "execution_count": null,
   "id": "27295bd7ada09140",
   "metadata": {
    "ExecuteTime": {
     "end_time": "2025-01-15T20:30:59.173856Z",
     "start_time": "2025-01-15T20:30:59.142606Z"
    }
   },
   "outputs": [],
   "source": [
    "df_non_legacy.shape"
   ]
  },
  {
   "cell_type": "code",
   "execution_count": null,
   "id": "566831c64be8ed7",
   "metadata": {
    "ExecuteTime": {
     "end_time": "2025-01-15T20:31:10.610031Z",
     "start_time": "2025-01-15T20:31:07.235690Z"
    }
   },
   "outputs": [],
   "source": [
    "model = SentenceTransformer('all-MiniLM-L6-v2')  # Lightweight embedding model\n",
    "embeddings_filtered = model.encode(df_non_legacy['log_message'].tolist())"
   ]
  },
  {
   "cell_type": "code",
   "execution_count": null,
   "id": "ae5a2c977f0330cd",
   "metadata": {
    "ExecuteTime": {
     "end_time": "2025-01-15T20:31:15.767984Z",
     "start_time": "2025-01-15T20:31:15.757908Z"
    }
   },
   "outputs": [],
   "source": [
    "len(embeddings_filtered)"
   ]
  },
  {
   "cell_type": "code",
   "execution_count": null,
   "id": "a9b0c2b8798c9247",
   "metadata": {
    "ExecuteTime": {
     "end_time": "2025-01-15T20:32:19.597483Z",
     "start_time": "2025-01-15T20:32:19.566230Z"
    }
   },
   "outputs": [],
   "source": [
    "X = embeddings_filtered\n",
    "y = df_non_legacy['target_label'].values"
   ]
  },
  {
   "cell_type": "code",
   "execution_count": null,
   "id": "b831de9df6a1d4c4",
   "metadata": {
    "ExecuteTime": {
     "end_time": "2025-01-15T20:32:24.546133Z",
     "start_time": "2025-01-15T20:32:24.357812Z"
    }
   },
   "outputs": [],
   "source": [
    "from sklearn.model_selection import train_test_split\n",
    "from sklearn.linear_model import LogisticRegression\n",
    "from sklearn.metrics import accuracy_score\n",
    "from sklearn.metrics import classification_report\n",
    "\n",
    "X_train, X_test, y_train, y_test = train_test_split(X, y, test_size=0.3, random_state=42)\n",
    "clf = LogisticRegression(max_iter=1000)\n",
    "clf.fit(X_train, y_train)\n",
    "y_pred = clf.predict(X_test)\n",
    "report = classification_report(y_test, y_pred)\n",
    "print(report)"
   ]
  },
  {
   "cell_type": "code",
   "execution_count": null,
   "id": "1317f9b2de813a32",
   "metadata": {
    "ExecuteTime": {
     "end_time": "2025-01-15T20:36:52.942021Z",
     "start_time": "2025-01-15T20:36:52.910539Z"
    }
   },
   "outputs": [],
   "source": [
    "import joblib\n",
    "joblib.dump(clf, '../models/log_classifier.joblib')\n"
   ]
  }
 ],
 "metadata": {
  "kernelspec": {
   "display_name": "base",
   "language": "python",
   "name": "python3"
  },
  "language_info": {
   "codemirror_mode": {
    "name": "ipython",
    "version": 3
   },
   "file_extension": ".py",
   "mimetype": "text/x-python",
   "name": "python",
   "nbconvert_exporter": "python",
   "pygments_lexer": "ipython3",
   "version": "3.12.7"
  }
 },
 "nbformat": 4,
 "nbformat_minor": 5
}
