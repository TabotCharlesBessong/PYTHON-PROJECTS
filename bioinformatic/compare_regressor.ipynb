{
 "cells": [
  {
   "cell_type": "code",
   "execution_count": null,
   "id": "53d92a58",
   "metadata": {},
   "outputs": [],
   "source": [
    "import pandas as pd\n",
    "import seaborn as sns\n",
    "from sklearn.model_selection import train_test_split\n",
    "import lazypredict\n",
    "from lazypredict.Supervised import LazyRegressor"
   ]
  },
  {
   "cell_type": "code",
   "execution_count": null,
   "id": "e32de7f6",
   "metadata": {},
   "outputs": [],
   "source": [
    "! wget https://github.com/dataprofessor/data/raw/master/acetylcholinesterase_06_bioactivity_data_3class_pIC50_pubchem_fp.csv"
   ]
  },
  {
   "cell_type": "code",
   "execution_count": null,
   "id": "cc379cd3",
   "metadata": {},
   "outputs": [],
   "source": [
    "df = pd.read_csv(\"./DATA/acetylcholinesterase_06_bioactivity_data_3class_pIC50_pubchem_fp.csv\")\n",
    "X = df.drop('pIC50', axis=1)\n",
    "Y = df.pIC50\n",
    "print(X.shape,Y.shape)"
   ]
  },
  {
   "cell_type": "code",
   "execution_count": null,
   "id": "21d068a0",
   "metadata": {},
   "outputs": [],
   "source": [
    "# remove variance features\n",
    "from sklearn.feature_selection import VarianceThreshold\n",
    "selection = VarianceThreshold(threshold=(.8 * (1 - .8)))\n",
    "\n",
    "X = selection.fit_transform(X)\n",
    "X.shape"
   ]
  },
  {
   "cell_type": "code",
   "execution_count": null,
   "id": "8e66023b",
   "metadata": {},
   "outputs": [],
   "source": [
    "# Perform data splitting using 80/20 ratio\n",
    "X_train, X_test, Y_train, Y_test = train_test_split(X, Y, test_size=0.2, random_state=42)"
   ]
  },
  {
   "cell_type": "code",
   "execution_count": null,
   "id": "30a6d60b",
   "metadata": {},
   "outputs": [],
   "source": [
    "# Defines and builds the lazyclassifier\n",
    "clf = LazyRegressor(verbose=0,ignore_warnings=True, custom_metric=None)\n",
    "models_train,predictions_train = clf.fit(X_train, X_train, Y_train, Y_train)\n",
    "models_test,predictions_test = clf.fit(X_train, X_test, Y_train, Y_test)"
   ]
  },
  {
   "cell_type": "code",
   "execution_count": null,
   "id": "8a2d4196",
   "metadata": {},
   "outputs": [],
   "source": [
    "predictions_train"
   ]
  },
  {
   "cell_type": "code",
   "execution_count": null,
   "id": "820c0eb6",
   "metadata": {},
   "outputs": [],
   "source": [
    "predictions_test"
   ]
  },
  {
   "cell_type": "code",
   "execution_count": null,
   "id": "e31c5c93",
   "metadata": {},
   "outputs": [],
   "source": [
    "# Bar plot of R-squared values\n",
    "import matplotlib.pyplot as plt\n",
    "import seaborn as sns\n",
    "\n",
    "#train[\"R-Squared\"] = [0 if i < 0 else i for i in train.iloc[:,0] ]\n",
    "\n",
    "plt.figure(figsize=(5, 10))\n",
    "sns.set_theme(style=\"whitegrid\")\n",
    "ax = sns.barplot(y=predictions_train.index, x=\"R-Squared\", data=predictions_train)\n",
    "ax.set(xlim=(0, 1))"
   ]
  },
  {
   "cell_type": "code",
   "execution_count": null,
   "id": "bded9ae6",
   "metadata": {},
   "outputs": [],
   "source": [
    "# Bar plot of RMSE values\n",
    "import matplotlib.pyplot as plt\n",
    "import seaborn as sns\n",
    "\n",
    "plt.figure(figsize=(5, 10))\n",
    "sns.set_theme(style=\"whitegrid\")\n",
    "ax = sns.barplot(y=predictions_train.index, x=\"RMSE\", data=predictions_train)\n",
    "ax.set(xlim=(0, 10))"
   ]
  },
  {
   "cell_type": "code",
   "execution_count": null,
   "id": "67128a7a",
   "metadata": {},
   "outputs": [],
   "source": [
    "# Bar plot of calculation time\n",
    "import matplotlib.pyplot as plt\n",
    "import seaborn as sns\n",
    "\n",
    "plt.figure(figsize=(5, 10))\n",
    "sns.set_theme(style=\"whitegrid\")\n",
    "ax = sns.barplot(y=predictions_train.index, x=\"Time Taken\", data=predictions_train)\n",
    "ax.set(xlim=(0, 10))"
   ]
  },
  {
   "cell_type": "code",
   "execution_count": null,
   "id": "e0e70432",
   "metadata": {},
   "outputs": [],
   "source": []
  }
 ],
 "metadata": {
  "kernelspec": {
   "display_name": "base",
   "language": "python",
   "name": "python3"
  },
  "language_info": {
   "codemirror_mode": {
    "name": "ipython",
    "version": 3
   },
   "file_extension": ".py",
   "mimetype": "text/x-python",
   "name": "python",
   "nbconvert_exporter": "python",
   "pygments_lexer": "ipython3",
   "version": "3.12.7"
  }
 },
 "nbformat": 4,
 "nbformat_minor": 5
}
