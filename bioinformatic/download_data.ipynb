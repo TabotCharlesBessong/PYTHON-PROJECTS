{
 "cells": [
  {
   "cell_type": "code",
   "execution_count": null,
   "id": "4752ea8a",
   "metadata": {},
   "outputs": [],
   "source": [
    "import pandas as pd\n",
    "from chembl_webresource_client.new_client import new_client"
   ]
  },
  {
   "cell_type": "code",
   "execution_count": null,
   "id": "1d5d2618",
   "metadata": {},
   "outputs": [],
   "source": [
    "# Target search for coronavirus\n",
    "target = new_client.target\n",
    "target_query = target.search('acetylcholinesterase')\n",
    "targets = pd.DataFrame.from_dict(target_query)\n",
    "targets.sample(10)"
   ]
  },
  {
   "cell_type": "code",
   "execution_count": null,
   "id": "511e719f",
   "metadata": {},
   "outputs": [],
   "source": [
    "selected_target = targets.target_chembl_id[0]\n",
    "selected_target"
   ]
  },
  {
   "cell_type": "code",
   "execution_count": null,
   "id": "9b7d532d",
   "metadata": {},
   "outputs": [],
   "source": [
    "activity = new_client.activity\n",
    "res = activity.filter(target_chembl_id=selected_target).filter(standard_type=\"IC50\")\n",
    "df = pd.DataFrame.from_dict(res)\n",
    "df"
   ]
  },
  {
   "cell_type": "code",
   "execution_count": null,
   "id": "9ec000e5",
   "metadata": {},
   "outputs": [],
   "source": [
    "# df.to_csv('acetylcholinesterase_01_bioactivity_data_raw.csv', index=False)\n",
    "print(df.shape)"
   ]
  },
  {
   "cell_type": "code",
   "execution_count": null,
   "id": "3862ef7d",
   "metadata": {},
   "outputs": [],
   "source": [
    "df2 = df[df.standard_value.notna()]\n",
    "df2 = df2[df.canonical_smiles.notna()]\n",
    "df2"
   ]
  },
  {
   "cell_type": "code",
   "execution_count": null,
   "id": "fb9d7445",
   "metadata": {},
   "outputs": [],
   "source": [
    "df2_nr = df2.drop_duplicates(['canonical_smiles'])\n",
    "df2_nr"
   ]
  },
  {
   "cell_type": "code",
   "execution_count": null,
   "id": "06baf7db",
   "metadata": {},
   "outputs": [],
   "source": [
    "selection = ['molecule_chembl_id','canonical_smiles','standard_value']\n",
    "df3 = df2_nr[selection]\n",
    "df3"
   ]
  },
  {
   "cell_type": "markdown",
   "id": "98330968",
   "metadata": {},
   "source": [
    "## Labeling compounds as active"
   ]
  },
  {
   "cell_type": "code",
   "execution_count": null,
   "id": "5849632b",
   "metadata": {},
   "outputs": [],
   "source": [
    "df4 = pd.read_csv(\"./DATA/acetylcholinesterase_02_bioactivity_data_preprocessed.csv\")\n",
    "# df4.shape\n",
    "df4.head()"
   ]
  },
  {
   "cell_type": "code",
   "execution_count": null,
   "id": "57ebd271",
   "metadata": {},
   "outputs": [],
   "source": [
    "bioactivity_threshold = []\n",
    "for i in df4.standard_value:\n",
    "  if float(i) >= 10000:\n",
    "    bioactivity_threshold.append(\"inactive\")\n",
    "  elif float(i) <= 1000:\n",
    "    bioactivity_threshold.append(\"active\")\n",
    "  else:\n",
    "    bioactivity_threshold.append(\"intermediate\")"
   ]
  },
  {
   "cell_type": "code",
   "execution_count": null,
   "id": "b38dc782",
   "metadata": {},
   "outputs": [],
   "source": [
    "bioactivity_class = pd.Series(bioactivity_threshold, name='class')\n",
    "\n",
    "df5 = pd.concat([df4, bioactivity_class], axis=1)\n",
    "df5"
   ]
  },
  {
   "cell_type": "code",
   "execution_count": null,
   "id": "3c9e2ff1",
   "metadata": {},
   "outputs": [],
   "source": [
    "# df5.to_csv('acetylcholinesterase_03_bioactivity_data_curated.csv', index=False)"
   ]
  },
  {
   "cell_type": "code",
   "execution_count": null,
   "id": "23f01500",
   "metadata": {},
   "outputs": [],
   "source": [
    "! zip acetylcholinesterase.zip *.csv"
   ]
  },
  {
   "cell_type": "code",
   "execution_count": null,
   "id": "92243206",
   "metadata": {},
   "outputs": [],
   "source": []
  }
 ],
 "metadata": {
  "kernelspec": {
   "display_name": "base",
   "language": "python",
   "name": "python3"
  },
  "language_info": {
   "codemirror_mode": {
    "name": "ipython",
    "version": 3
   },
   "file_extension": ".py",
   "mimetype": "text/x-python",
   "name": "python",
   "nbconvert_exporter": "python",
   "pygments_lexer": "ipython3",
   "version": "3.12.7"
  }
 },
 "nbformat": 4,
 "nbformat_minor": 5
}
