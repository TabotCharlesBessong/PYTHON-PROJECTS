{
 "cells": [
  {
   "cell_type": "markdown",
   "id": "dd48b7e6",
   "metadata": {},
   "source": [
    "# Introduction to Time Series Forecasting with Statistical Models"
   ]
  },
  {
   "cell_type": "markdown",
   "id": "bf2f88e4",
   "metadata": {},
   "source": [
    "## Environment setup\n",
    "### Local development\n",
    "\n",
    "- Create a virtual environment with conda create -n your_env_name python=3.12\n",
    "- Activate your environment with conda activate your_env_name\n",
    "- Install dependencies with pip install statsforecast matplotlib jupyterlab pandas numpy utilsforecast\n",
    "- Run code"
   ]
  },
  {
   "cell_type": "code",
   "execution_count": null,
   "id": "5a4bf2f4",
   "metadata": {},
   "outputs": [],
   "source": [
    "import numpy as np\n",
    "import pandas as pd\n",
    "import matplotlib.pyplot as plt\n",
    "\n",
    "from utilsforecast.plotting import plot_series\n",
    "from utilsforecast.evaluation import evaluate\n",
    "from utilsforecast.losses import *\n",
    "\n",
    "import warnings\n",
    "warnings.filterwarnings(\"ignore\")"
   ]
  },
  {
   "cell_type": "code",
   "execution_count": null,
   "id": "67f488b0",
   "metadata": {},
   "outputs": [],
   "source": [
    "df = pd.read_csv(\"data/daily_sales_french_bakery.csv\", parse_dates=[\"ds\"])\n",
    "df = df.groupby('unique_id').filter(lambda x: len(x) >= 28)\n",
    "df = df.drop([\"unit_price\"], axis=1)\n",
    "df.head()"
   ]
  },
  {
   "cell_type": "code",
   "execution_count": null,
   "id": "279f16ea",
   "metadata": {},
   "outputs": [],
   "source": [
    "plot_series(df=df,ids=[\"BAGUETTE\",\"CROISSANT\"],palette=\"viridis\")"
   ]
  },
  {
   "cell_type": "code",
   "execution_count": null,
   "id": "40d5c7e5",
   "metadata": {},
   "outputs": [],
   "source": [
    "plot_series(df=df,ids=[\"BAGUETTE\",\"CROISSANT\"],max_insample_length=56,palette=\"viridis\")"
   ]
  },
  {
   "cell_type": "markdown",
   "id": "479f5a10",
   "metadata": {},
   "source": [
    "## Baseline models"
   ]
  },
  {
   "cell_type": "code",
   "execution_count": null,
   "id": "37a97313",
   "metadata": {},
   "outputs": [],
   "source": [
    "from statsforecast import StatsForecast\n",
    "from statsforecast.models import Naive, HistoricAverage, WindowAverage, SeasonalNaive"
   ]
  },
  {
   "cell_type": "code",
   "execution_count": null,
   "id": "1f6981fb",
   "metadata": {},
   "outputs": [],
   "source": [
    "horizon = 7\n",
    "\n",
    "models = [\n",
    "    Naive(),\n",
    "    HistoricAverage(),\n",
    "    WindowAverage(window_size=7),\n",
    "    SeasonalNaive(season_length=7)\n",
    "]\n",
    "\n",
    "sf = StatsForecast(models=models, freq=\"D\")\n",
    "sf.fit(df=df)\n",
    "preds = sf.predict(h=horizon)"
   ]
  },
  {
   "cell_type": "code",
   "execution_count": null,
   "id": "75bc09ed",
   "metadata": {},
   "outputs": [],
   "source": [
    "preds.sample(10)"
   ]
  },
  {
   "cell_type": "code",
   "execution_count": null,
   "id": "bfb74a59",
   "metadata": {},
   "outputs": [],
   "source": [
    "plot_series(\n",
    "    df=df, \n",
    "    forecasts_df=preds, \n",
    "    ids=[\"BAGUETTE\", \"CROISSANT\"], \n",
    "    max_insample_length=28, \n",
    "    palette=\"viridis\")"
   ]
  },
  {
   "cell_type": "markdown",
   "id": "66e1a376",
   "metadata": {},
   "source": [
    "## Evaluate baseline models"
   ]
  },
  {
   "cell_type": "code",
   "execution_count": null,
   "id": "92d2e532",
   "metadata": {},
   "outputs": [],
   "source": [
    "test = df.groupby(\"unique_id\").tail(7)\n",
    "train = df.drop(test.index).reset_index(drop=True)\n",
    "train.head(10)"
   ]
  },
  {
   "cell_type": "code",
   "execution_count": null,
   "id": "cc7c5b58",
   "metadata": {},
   "outputs": [],
   "source": [
    "sf.fit(df=train)\n",
    "\n",
    "preds = sf.predict(h=horizon)\n",
    "\n",
    "eval_df = pd.merge(test,preds,'left',['ds','unique_id'])"
   ]
  },
  {
   "cell_type": "code",
   "execution_count": null,
   "id": "b553309b",
   "metadata": {},
   "outputs": [],
   "source": [
    "evaluation = evaluate(\n",
    "    eval_df,\n",
    "    metrics=[mae],\n",
    ")\n",
    "evaluation.head()"
   ]
  },
  {
   "cell_type": "code",
   "execution_count": null,
   "id": "1a631b1f",
   "metadata": {},
   "outputs": [],
   "source": [
    "evaluation = evaluation.drop(['unique_id'], axis=1).groupby('metric').mean().reset_index()\n",
    "evaluation"
   ]
  },
  {
   "cell_type": "code",
   "execution_count": null,
   "id": "27c1e2c0",
   "metadata": {},
   "outputs": [],
   "source": [
    "methods = evaluation.columns[1:].tolist()  \n",
    "values = evaluation.iloc[0, 1:].tolist() \n",
    "\n",
    "plt.figure(figsize=(10, 6))\n",
    "bars = plt.bar(methods, values)\n",
    "\n",
    "for bar, value in zip(bars, values):\n",
    "    plt.text(bar.get_x() + bar.get_width()/2, bar.get_height() + 0.05, \n",
    "             f'{value:.3f}', ha='center', va='bottom', fontweight='bold')\n",
    "\n",
    "plt.xlabel('Methods')\n",
    "plt.ylabel('Mean absolute error (MAE)')\n",
    "plt.tight_layout()\n",
    "\n",
    "plt.show()"
   ]
  },
  {
   "cell_type": "markdown",
   "id": "9dc5a4e4",
   "metadata": {},
   "source": [
    "## AutoARIMIA"
   ]
  },
  {
   "cell_type": "code",
   "execution_count": null,
   "id": "a59e5dd1",
   "metadata": {},
   "outputs": [],
   "source": [
    "from statsforecast.models import AutoARIMA"
   ]
  },
  {
   "cell_type": "code",
   "execution_count": null,
   "id": "162a31ed",
   "metadata": {},
   "outputs": [],
   "source": [
    "unique_ids = [\"BAGUETTE\", \"CROISSANT\"]\n",
    "\n",
    "small_train = train[train[\"unique_id\"].isin(unique_ids)]\n",
    "small_test = test[test[\"unique_id\"].isin(unique_ids)]\n",
    "\n",
    "models = [\n",
    "    AutoARIMA(seasonal=False, alias=\"ARIMA\"),\n",
    "    AutoARIMA(season_length=7, alias=\"SARIMA\")\n",
    "]\n",
    "\n",
    "sf = StatsForecast(models=models, freq=\"D\")\n",
    "sf.fit(df=small_train)\n",
    "arima_preds = sf.predict(h=horizon)\n",
    "\n",
    "arima_eval_df = pd.merge(arima_preds, eval_df, 'inner', ['ds', 'unique_id'])\n",
    "arima_eval = evaluate(\n",
    "    arima_eval_df,\n",
    "    metrics=[mae],\n",
    ")\n",
    "arima_eval"
   ]
  },
  {
   "cell_type": "code",
   "execution_count": null,
   "id": "60986219",
   "metadata": {},
   "outputs": [],
   "source": [
    "arima_eval = arima_eval.drop(['unique_id'], axis=1).groupby('metric').mean().reset_index()\n",
    "arima_eval"
   ]
  },
  {
   "cell_type": "code",
   "execution_count": null,
   "id": "47c9696c",
   "metadata": {},
   "outputs": [],
   "source": [
    "plot_series(\n",
    "    df=df, \n",
    "    forecasts_df=arima_preds, \n",
    "    ids=[\"BAGUETTE\", \"CROISSANT\"], \n",
    "    max_insample_length=28, \n",
    "    palette=\"viridis\")"
   ]
  },
  {
   "cell_type": "code",
   "execution_count": null,
   "id": "acd5366d",
   "metadata": {},
   "outputs": [],
   "source": [
    "methods = arima_eval.columns[1:].tolist()  \n",
    "values = arima_eval.iloc[0, 1:].tolist() \n",
    "\n",
    "sorted_data = sorted(zip(methods, values), key=lambda x: x[1], reverse=True)\n",
    "methods_sorted, values_sorted = zip(*sorted_data)\n",
    "\n",
    "plt.figure(figsize=(10, 6))\n",
    "bars = plt.bar(methods_sorted, values_sorted)\n",
    "\n",
    "for bar, value in zip(bars, values_sorted):\n",
    "    plt.text(bar.get_x() + bar.get_width()/2, bar.get_height() + 0.05, \n",
    "             f'{value:.3f}', ha='center', va='bottom', fontweight='bold')\n",
    "\n",
    "plt.xlabel('Methods')\n",
    "plt.ylabel('Mean absolute error (MAE)')\n",
    "plt.tight_layout()\n",
    "\n",
    "plt.show()"
   ]
  },
  {
   "cell_type": "markdown",
   "id": "a4a1ad2a",
   "metadata": {},
   "source": [
    "## Cross-validation"
   ]
  },
  {
   "cell_type": "code",
   "execution_count": null,
   "id": "4fb9fe88",
   "metadata": {},
   "outputs": [],
   "source": [
    "small_df = df[df[\"unique_id\"].isin(unique_ids)]\n",
    "\n",
    "models = [\n",
    "    SeasonalNaive(season_length=7),\n",
    "    AutoARIMA(seasonal=False, alias=\"ARIMA\"),\n",
    "    AutoARIMA(season_length=7, alias=\"SARIMA\")\n",
    "]\n",
    "\n",
    "sf = StatsForecast(models=models, freq=\"D\")\n",
    "cv_df = sf.cross_validation(\n",
    "    h=horizon, # 7 days\n",
    "    df=small_df,\n",
    "    n_windows=8,\n",
    "    step_size=horizon,\n",
    "    refit=True\n",
    ")\n",
    "\n",
    "cv_df.head()"
   ]
  },
  {
   "cell_type": "code",
   "execution_count": null,
   "id": "5c231d37",
   "metadata": {},
   "outputs": [],
   "source": [
    "plot_series(\n",
    "    df=small_df, \n",
    "    forecasts_df=cv_df.drop([\"y\", \"cutoff\"], axis=1), \n",
    "    ids=[\"BAGUETTE\", \"CROISSANT\"], \n",
    "    max_insample_length=140, \n",
    "    palette=\"viridis\")"
   ]
  },
  {
   "cell_type": "code",
   "execution_count": null,
   "id": "b77beac8",
   "metadata": {},
   "outputs": [],
   "source": [
    "cv_eval = evaluate(\n",
    "    cv_df.drop([\"cutoff\"], axis=1),\n",
    "    metrics=[mae],\n",
    ")\n",
    "cv_eval = cv_eval.drop(['unique_id'], axis=1).groupby('metric').mean().reset_index()\n",
    "cv_eval"
   ]
  },
  {
   "cell_type": "code",
   "execution_count": null,
   "id": "6ab70634",
   "metadata": {},
   "outputs": [],
   "source": [
    "methods = cv_eval.columns[1:].tolist()  \n",
    "values = cv_eval.iloc[0, 1:].tolist() \n",
    "\n",
    "sorted_data = sorted(zip(methods, values), key=lambda x: x[1], reverse=True)\n",
    "methods_sorted, values_sorted = zip(*sorted_data)\n",
    "\n",
    "plt.figure(figsize=(10, 6))\n",
    "bars = plt.bar(methods_sorted, values_sorted)\n",
    "\n",
    "for bar, value in zip(bars, values_sorted):\n",
    "    plt.text(bar.get_x() + bar.get_width()/2, bar.get_height() + 0.05, \n",
    "             f'{value:.3f}', ha='center', va='bottom', fontweight='bold')\n",
    "\n",
    "plt.xlabel('Methods')\n",
    "plt.ylabel('Mean absolute error (MAE)')\n",
    "plt.tight_layout()\n",
    "\n",
    "plt.show()"
   ]
  },
  {
   "cell_type": "markdown",
   "id": "2dea5b01",
   "metadata": {},
   "source": [
    "## Forecasting with exogenous features"
   ]
  },
  {
   "cell_type": "code",
   "execution_count": null,
   "id": "5916801c",
   "metadata": {},
   "outputs": [],
   "source": [
    "df = pd.read_csv(\"./data/daily_sales_french_bakery.csv\", parse_dates=[\"ds\"])\n",
    "df = df.groupby('unique_id').filter(lambda x: len(x) >= 28)\n",
    "df.head()"
   ]
  },
  {
   "cell_type": "code",
   "execution_count": null,
   "id": "a7e96ec0",
   "metadata": {},
   "outputs": [],
   "source": [
    "baguette_plot_df = df[df[\"unique_id\"] == \"BAGUETTE\"]\n",
    "croissant_plot_df = df[df[\"unique_id\"] == \"CROISSANT\"]\n",
    "\n",
    "fig, ((ax1, ax2), (ax3, ax4)) = plt.subplots(nrows=2, ncols=2, figsize=(16,8))\n",
    "\n",
    "ax1.plot(baguette_plot_df[\"ds\"], baguette_plot_df[\"y\"])\n",
    "ax1.set_xlabel(\"Date\")\n",
    "ax1.set_ylabel(\"Baguette sales volume\")\n",
    "\n",
    "ax2.plot(baguette_plot_df[\"ds\"], baguette_plot_df[\"unit_price\"])\n",
    "ax2.set_xlabel(\"Date\")\n",
    "ax2.set_ylabel(\"Unit price of baguette\")\n",
    "\n",
    "ax3.plot(croissant_plot_df[\"ds\"], croissant_plot_df[\"y\"])\n",
    "ax3.set_xlabel(\"Date\")\n",
    "ax3.set_ylabel(\"Croissant sales volume\")\n",
    "\n",
    "ax4.plot(croissant_plot_df[\"ds\"], croissant_plot_df[\"unit_price\"])\n",
    "ax4.set_xlabel(\"Date\")\n",
    "ax4.set_ylabel(\"Unit price of croissant\")\n",
    "\n",
    "fig.autofmt_xdate()\n",
    "plt.tight_layout()"
   ]
  },
  {
   "cell_type": "code",
   "execution_count": null,
   "id": "1b813c13",
   "metadata": {},
   "outputs": [],
   "source": [
    "unique_ids = [\"BAGUETTE\", \"CROISSANT\"]\n",
    "small_df = df[df[\"unique_id\"].isin(unique_ids)]\n",
    "test = small_df.groupby(\"unique_id\").tail(7)\n",
    "train = small_df.drop(test.index).reset_index(drop=True)"
   ]
  },
  {
   "cell_type": "code",
   "execution_count": null,
   "id": "4f8f35d5",
   "metadata": {},
   "outputs": [],
   "source": [
    "futr_exog_df = test.drop([\"y\"], axis=1)\n",
    "futr_exog_df.head()"
   ]
  },
  {
   "cell_type": "code",
   "execution_count": null,
   "id": "b0d8cef2",
   "metadata": {},
   "outputs": [],
   "source": [
    "models = [\n",
    "    AutoARIMA(season_length=7, alias=\"SARIMA_exog\")\n",
    "]\n",
    "\n",
    "sf = StatsForecast(models=models, freq=\"D\")\n",
    "sf.fit(df=train)\n",
    "arima_exog_preds = sf.predict(h=7, X_df=futr_exog_df)\n",
    "\n",
    "models = [\n",
    "    AutoARIMA(season_length=7, alias=\"SARIMA\")\n",
    "]\n",
    "\n",
    "sf = StatsForecast(models=models, freq=\"D\")\n",
    "sf.fit(df=train.drop([\"unit_price\"], axis=1))\n",
    "arima_preds = sf.predict(h=horizon)"
   ]
  },
  {
   "cell_type": "code",
   "execution_count": null,
   "id": "9ea10381",
   "metadata": {},
   "outputs": [],
   "source": [
    "test_df = test.merge(arima_exog_preds, on=[\"unique_id\", \"ds\"], how=\"left\")\\\n",
    "              .merge(arima_preds, on=[\"unique_id\", \"ds\"], how=\"left\")\n",
    "test_df"
   ]
  },
  {
   "cell_type": "code",
   "execution_count": null,
   "id": "1e0cb101",
   "metadata": {},
   "outputs": [],
   "source": [
    "plot_series(\n",
    "    df=train, \n",
    "    forecasts_df=test_df, \n",
    "    ids=[\"BAGUETTE\", \"CROISSANT\"], \n",
    "    max_insample_length=28,\n",
    "    models=[\"SARIMA_exog\", \"SARIMA\"],\n",
    "    palette=\"viridis\"\n",
    ")"
   ]
  },
  {
   "cell_type": "code",
   "execution_count": null,
   "id": "f5dd1397",
   "metadata": {},
   "outputs": [],
   "source": [
    "models = [\n",
    "    AutoARIMA(season_length=7, alias=\"SARIMA_exog\")\n",
    "]\n",
    "\n",
    "sf = StatsForecast(models=models, freq=\"D\")\n",
    "cv_exog_df = sf.cross_validation(\n",
    "    h=horizon, # 7 days\n",
    "    df=small_df,\n",
    "    n_windows=8,\n",
    "    step_size=7,\n",
    "    refit=True\n",
    ")\n",
    "\n",
    "cv_exog_df.head()"
   ]
  },
  {
   "cell_type": "code",
   "execution_count": null,
   "id": "39aced60",
   "metadata": {},
   "outputs": [],
   "source": [
    "cv_exog_eval = evaluate(\n",
    "    cv_exog_df.drop([\"cutoff\"], axis=1),\n",
    "    metrics=[mae],\n",
    ")\n",
    "cv_exog_eval = cv_exog_eval.drop(['unique_id'], axis=1).groupby('metric').mean().reset_index()\n",
    "cv_exog_eval"
   ]
  },
  {
   "cell_type": "markdown",
   "id": "23b0f5e9",
   "metadata": {},
   "source": [
    "### Creating features from timestamps"
   ]
  },
  {
   "cell_type": "code",
   "execution_count": null,
   "id": "81666ec6",
   "metadata": {},
   "outputs": [],
   "source": [
    "from functools import partial\n",
    "from utilsforecast.feature_engineering import fourier, time_features, pipeline"
   ]
  },
  {
   "cell_type": "code",
   "execution_count": null,
   "id": "d736f8d1",
   "metadata": {},
   "outputs": [],
   "source": [
    "features = [\n",
    "    partial(fourier, season_length=7, k=2),\n",
    "    partial(time_features, features=[\"day\", \"week\", \"month\"])\n",
    "]\n",
    "\n",
    "small_exog_df, futr_exog_df = pipeline(\n",
    "    df=small_df,\n",
    "    features=features,\n",
    "    freq=\"D\",\n",
    "    h=horizon\n",
    ")"
   ]
  },
  {
   "cell_type": "code",
   "execution_count": null,
   "id": "09c29cfb",
   "metadata": {},
   "outputs": [],
   "source": [
    "small_exog_df.sample(10)"
   ]
  },
  {
   "cell_type": "code",
   "execution_count": null,
   "id": "c9bb669c",
   "metadata": {},
   "outputs": [],
   "source": [
    "futr_exog_df"
   ]
  },
  {
   "cell_type": "code",
   "execution_count": null,
   "id": "241d5393",
   "metadata": {},
   "outputs": [],
   "source": [
    "models = [\n",
    "    AutoARIMA(season_length=7, alias=\"SARIMA_time_exog\")\n",
    "]\n",
    "\n",
    "sf = StatsForecast(models=models, freq=\"D\")\n",
    "cv_time_exog_df = sf.cross_validation(\n",
    "    h=horizon, # 7 days\n",
    "    df=small_exog_df,\n",
    "    n_windows=8,\n",
    "    step_size=horizon,\n",
    "    refit=True\n",
    ")\n",
    "\n",
    "cv_time_exog_eval = evaluate(\n",
    "    cv_time_exog_df.drop([\"cutoff\"], axis=1),\n",
    "    metrics=[mae],\n",
    ")\n",
    "cv_time_exog_eval = cv_time_exog_eval.drop(['unique_id'], axis=1).groupby('metric').mean().reset_index()\n",
    "cv_time_exog_eval"
   ]
  },
  {
   "cell_type": "code",
   "execution_count": null,
   "id": "3bba8d91",
   "metadata": {},
   "outputs": [],
   "source": [
    "methods = [\"ARIMA\", \"Seasonal naive\", \"SARIMA\", \"SARIMA_price_exog\", \"SARIMA_time_exog\"] \n",
    "values = [21.229, 21.118, 19.281, 19.210, 19.533]\n",
    "\n",
    "sorted_data = sorted(zip(methods, values), key=lambda x: x[1], reverse=True)\n",
    "methods_sorted, values_sorted = zip(*sorted_data)\n",
    "\n",
    "plt.figure(figsize=(10, 6))\n",
    "bars = plt.bar(methods_sorted, values_sorted)\n",
    "\n",
    "for bar, value in zip(bars, values_sorted):\n",
    "    plt.text(bar.get_x() + bar.get_width()/2, bar.get_height() + 0.05, \n",
    "             f'{value:.3f}', ha='center', va='bottom', fontweight='bold')\n",
    "\n",
    "plt.xlabel('Methods')\n",
    "plt.ylabel('Mean absolute error (MAE)')\n",
    "plt.tight_layout()\n",
    "\n",
    "plt.show()"
   ]
  },
  {
   "cell_type": "markdown",
   "id": "d73a0a69",
   "metadata": {},
   "source": [
    "### Prediction intervals"
   ]
  },
  {
   "cell_type": "code",
   "execution_count": null,
   "id": "09af3ab7",
   "metadata": {},
   "outputs": [],
   "source": [
    "unique_ids = [\"BAGUETTE\", \"CROISSANT\"]\n",
    "small_df = df[df[\"unique_id\"].isin(unique_ids)]\n",
    "test = small_df.groupby(\"unique_id\").tail(7)\n",
    "train = small_df.drop(test.index).reset_index(drop=True)\n",
    "train.sample(10)"
   ]
  },
  {
   "cell_type": "code",
   "execution_count": null,
   "id": "18cd61e0",
   "metadata": {},
   "outputs": [],
   "source": [
    "models = [\n",
    "    AutoARIMA(season_length=7)\n",
    "]\n",
    "\n",
    "sf = StatsForecast(models=models, freq=\"D\")\n",
    "sf.fit(df=train)\n",
    "prob_preds = sf.predict(h=horizon, X_df=test.drop([\"y\"], axis=1), level=[80])"
   ]
  },
  {
   "cell_type": "code",
   "execution_count": null,
   "id": "574a2ae3",
   "metadata": {},
   "outputs": [],
   "source": [
    "test_df = test.merge(prob_preds, on=[\"unique_id\", \"ds\"], how=\"left\")"
   ]
  },
  {
   "cell_type": "code",
   "execution_count": null,
   "id": "068e5b83",
   "metadata": {},
   "outputs": [],
   "source": [
    "plot_series(\n",
    "    df=train, \n",
    "    forecasts_df=test_df, \n",
    "    ids=[\"BAGUETTE\", \"CROISSANT\"], \n",
    "    max_insample_length=28,\n",
    "    models=[\"AutoARIMA\"],\n",
    "    level=[80],\n",
    "    palette=\"viridis\"\n",
    ")"
   ]
  },
  {
   "cell_type": "code",
   "execution_count": null,
   "id": "9f950785",
   "metadata": {},
   "outputs": [],
   "source": [
    "models = [\n",
    "    AutoARIMA(season_length=7)\n",
    "]\n",
    "\n",
    "sf = StatsForecast(models=models, freq=\"D\")\n",
    "cv_prob_df = sf.cross_validation(\n",
    "    h=horizon,\n",
    "    df=small_df,\n",
    "    n_windows=8,\n",
    "    step_size=7,\n",
    "    refit=True,\n",
    "    level=[80],\n",
    ")"
   ]
  },
  {
   "cell_type": "code",
   "execution_count": null,
   "id": "28bac2ca",
   "metadata": {},
   "outputs": [],
   "source": [
    "plot_series(\n",
    "    df=small_df, \n",
    "    forecasts_df=cv_prob_df.drop([\"y\", \"cutoff\"], axis=1), \n",
    "    ids=[\"BAGUETTE\", \"CROISSANT\"], \n",
    "    models=[\"AutoARIMA\"],\n",
    "    max_insample_length=140,\n",
    "    level=[80],\n",
    "    palette=\"viridis\"\n",
    ")"
   ]
  },
  {
   "cell_type": "markdown",
   "id": "28e5ffa7",
   "metadata": {},
   "source": [
    "### Evaluation metrics"
   ]
  },
  {
   "cell_type": "code",
   "execution_count": null,
   "id": "2fa24d48",
   "metadata": {},
   "outputs": [],
   "source": [
    "models = [\n",
    "    AutoARIMA(season_length=7, alias=\"SARIMA_exog\"),\n",
    "    SeasonalNaive(season_length=7)\n",
    "]\n",
    "\n",
    "sf = StatsForecast(models=models, freq=\"D\")\n",
    "final_cv_df = sf.cross_validation(\n",
    "    h=horizon,\n",
    "    df=small_df,\n",
    "    n_windows=8,\n",
    "    step_size=7,\n",
    "    refit=True,\n",
    "    level=[80],\n",
    ")\n",
    "\n",
    "final_cv_df.sample(11)"
   ]
  },
  {
   "cell_type": "code",
   "execution_count": null,
   "id": "ac38c6b6",
   "metadata": {},
   "outputs": [],
   "source": [
    "temp_test = small_df.groupby(\"unique_id\").tail(7*8)\n",
    "temp_train = small_df.drop(temp_test.index).reset_index(drop=True)"
   ]
  },
  {
   "cell_type": "code",
   "execution_count": null,
   "id": "94f3e853",
   "metadata": {},
   "outputs": [],
   "source": [
    "models = [\"SARIMA_exog\", \"SeasonalNaive\"]\n",
    "metrics = [\n",
    "    mae,\n",
    "    mse, \n",
    "    rmse, \n",
    "    mape, \n",
    "    smape,\n",
    "    partial(mase, seasonality=7),\n",
    "    scaled_crps\n",
    "]\n",
    "\n",
    "final_eval = evaluate(\n",
    "    final_cv_df.drop([\"ds\", \"cutoff\"], axis=1),\n",
    "    metrics=metrics,\n",
    "    models=models,\n",
    "    train_df=temp_train,\n",
    "    level=[80]\n",
    ")\n",
    "final_eval = final_eval.drop(['unique_id'], axis=1).groupby('metric').mean().reset_index()\n",
    "final_eval"
   ]
  },
  {
   "cell_type": "code",
   "execution_count": null,
   "id": "16db0686",
   "metadata": {},
   "outputs": [],
   "source": [
    "fig, axes = plt.subplots(3, 3, figsize=(18, 12))\n",
    "\n",
    "axes_flat = axes.flatten()\n",
    "\n",
    "models = ['SARIMA_exog', 'SeasonalNaive']\n",
    "x_pos = [0, 1]\n",
    "colors = ['blue', 'red']\n",
    "\n",
    "for i, row in final_eval.iterrows():\n",
    "    ax = axes_flat[i]\n",
    "    \n",
    "    model_values = [row['SARIMA_exog'], row['SeasonalNaive']]\n",
    "    \n",
    "    bars = ax.bar(x_pos, model_values, color=colors, alpha=0.8, edgecolor='black', linewidth=1)\n",
    "    \n",
    "    for j, (bar, value) in enumerate(zip(bars, model_values)):\n",
    "        height = bar.get_height()\n",
    "        ax.text(bar.get_x() + bar.get_width()/2., height + height*0.01,\n",
    "                f'{value:.3f}', ha='center', va='bottom', fontweight='bold', fontsize=10)\n",
    "    \n",
    "    ax.set_title(row['metric'].upper(), fontweight='bold', fontsize=12)\n",
    "    ax.set_xticks(x_pos)\n",
    "    ax.set_xticklabels(models, ha='center')\n",
    "    ax.set_ylabel('Value')\n",
    "    max_value = max(model_values)\n",
    "    ax.set_ylim(0, max_value * 1.1)\n",
    "\n",
    "fig.delaxes(axes_flat[7])\n",
    "\n",
    "axes_flat[8].set_visible(False)\n",
    "\n",
    "plt.tight_layout()\n",
    "plt.show()"
   ]
  }
 ],
 "metadata": {
  "kernelspec": {
   "display_name": "base",
   "language": "python",
   "name": "python3"
  },
  "language_info": {
   "codemirror_mode": {
    "name": "ipython",
    "version": 3
   },
   "file_extension": ".py",
   "mimetype": "text/x-python",
   "name": "python",
   "nbconvert_exporter": "python",
   "pygments_lexer": "ipython3",
   "version": "3.12.7"
  }
 },
 "nbformat": 4,
 "nbformat_minor": 5
}
